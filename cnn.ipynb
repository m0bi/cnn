{
 "cells": [
  {
   "cell_type": "code",
   "execution_count": 1,
   "metadata": {},
   "outputs": [
    {
     "name": "stderr",
     "output_type": "stream",
     "text": [
      "Using TensorFlow backend.\n",
      "/usr/lib/python3/dist-packages/requests/__init__.py:80: RequestsDependencyWarning: urllib3 (1.25.3) or chardet (3.0.4) doesn't match a supported version!\n",
      "  RequestsDependencyWarning)\n"
     ]
    }
   ],
   "source": [
    "from keras.models import Sequential\n",
    "from keras.layers import Convolution2D, MaxPooling2D, Flatten, Dense\n",
    "from keras.preprocessing.image import ImageDataGenerator"
   ]
  },
  {
   "cell_type": "code",
   "execution_count": 2,
   "metadata": {},
   "outputs": [
    {
     "name": "stdout",
     "output_type": "stream",
     "text": [
      "WARNING:tensorflow:From /home/ezra/.local/lib/python3.6/site-packages/tensorflow/python/framework/op_def_library.py:263: colocate_with (from tensorflow.python.framework.ops) is deprecated and will be removed in a future version.\n",
      "Instructions for updating:\n",
      "Colocations handled automatically by placer.\n"
     ]
    },
    {
     "name": "stderr",
     "output_type": "stream",
     "text": [
      "/usr/local/lib/python3.6/dist-packages/ipykernel_launcher.py:2: UserWarning: Update your `Conv2D` call to the Keras 2 API: `Conv2D(32, (3, 3), input_shape=(64, 64, 3..., activation=\"relu\")`\n",
      "  \n",
      "/usr/local/lib/python3.6/dist-packages/ipykernel_launcher.py:4: UserWarning: Update your `Conv2D` call to the Keras 2 API: `Conv2D(64, (3, 3), activation=\"relu\")`\n",
      "  after removing the cwd from sys.path.\n"
     ]
    }
   ],
   "source": [
    "classifier = Sequential()\n",
    "classifier.add(Convolution2D(32, 3, 3, input_shape=(64, 64, 3), activation='relu'))\n",
    "classifier.add(MaxPooling2D(pool_size=(2,2)))\n",
    "classifier.add(Convolution2D(64, 3, 3, activation='relu'))\n",
    "classifier.add(MaxPooling2D(pool_size=(2,2)))\n",
    "classifier.add(Flatten())\n",
    "classifier.add(Dense(128, activation='relu'))\n",
    "classifier.add(Dense(1, activation='sigmoid'))"
   ]
  },
  {
   "cell_type": "code",
   "execution_count": 3,
   "metadata": {},
   "outputs": [],
   "source": [
    "classifier.compile(optimizer='adam', loss='binary_crossentropy', metrics=['accuracy'])"
   ]
  },
  {
   "cell_type": "code",
   "execution_count": 4,
   "metadata": {},
   "outputs": [
    {
     "name": "stdout",
     "output_type": "stream",
     "text": [
      "Found 8000 images belonging to 2 classes.\n",
      "Found 2000 images belonging to 2 classes.\n",
      "WARNING:tensorflow:From /home/ezra/.local/lib/python3.6/site-packages/tensorflow/python/ops/math_ops.py:3066: to_int32 (from tensorflow.python.ops.math_ops) is deprecated and will be removed in a future version.\n",
      "Instructions for updating:\n",
      "Use tf.cast instead.\n"
     ]
    },
    {
     "name": "stderr",
     "output_type": "stream",
     "text": [
      "/usr/local/lib/python3.6/dist-packages/ipykernel_launcher.py:8: UserWarning: The semantics of the Keras 2 argument `steps_per_epoch` is not the same as the Keras 1 argument `samples_per_epoch`. `steps_per_epoch` is the number of batches to draw from the generator at each epoch. Basically steps_per_epoch = samples_per_epoch/batch_size. Similarly `nb_val_samples`->`validation_steps` and `val_samples`->`steps` arguments have changed. Update your method calls accordingly.\n",
      "  \n",
      "/usr/local/lib/python3.6/dist-packages/ipykernel_launcher.py:8: UserWarning: Update your `fit_generator` call to the Keras 2 API: `fit_generator(<keras_pre..., validation_data=<keras_pre..., steps_per_epoch=250, epochs=25, validation_steps=2000)`\n",
      "  \n"
     ]
    },
    {
     "name": "stdout",
     "output_type": "stream",
     "text": [
      "Epoch 1/25\n",
      "250/250 [==============================] - 130s 521ms/step - loss: 0.6762 - acc: 0.5819 - val_loss: 0.6170 - val_acc: 0.6789\n",
      "Epoch 2/25\n",
      "250/250 [==============================] - 126s 505ms/step - loss: 0.5966 - acc: 0.6746 - val_loss: 0.6197 - val_acc: 0.6586\n",
      "Epoch 3/25\n",
      "250/250 [==============================] - 127s 508ms/step - loss: 0.5619 - acc: 0.7115 - val_loss: 0.5534 - val_acc: 0.7179\n",
      "Epoch 4/25\n",
      "250/250 [==============================] - 128s 511ms/step - loss: 0.5237 - acc: 0.7399 - val_loss: 0.5155 - val_acc: 0.7496\n",
      "Epoch 5/25\n",
      "250/250 [==============================] - 128s 511ms/step - loss: 0.4975 - acc: 0.7622 - val_loss: 0.5094 - val_acc: 0.7532\n",
      "Epoch 6/25\n",
      "250/250 [==============================] - 128s 510ms/step - loss: 0.4905 - acc: 0.7642 - val_loss: 0.5118 - val_acc: 0.7483\n",
      "Epoch 7/25\n",
      "250/250 [==============================] - 108s 434ms/step - loss: 0.4689 - acc: 0.7741 - val_loss: 0.5037 - val_acc: 0.7614\n",
      "Epoch 8/25\n",
      "250/250 [==============================] - 107s 426ms/step - loss: 0.4625 - acc: 0.7804 - val_loss: 0.4824 - val_acc: 0.7750\n",
      "Epoch 9/25\n",
      "250/250 [==============================] - 106s 426ms/step - loss: 0.4444 - acc: 0.7902 - val_loss: 0.4755 - val_acc: 0.7750\n",
      "Epoch 10/25\n",
      "250/250 [==============================] - 106s 425ms/step - loss: 0.4283 - acc: 0.8010 - val_loss: 0.4778 - val_acc: 0.7757\n",
      "Epoch 11/25\n",
      "250/250 [==============================] - 118s 474ms/step - loss: 0.4097 - acc: 0.8031 - val_loss: 0.5518 - val_acc: 0.7505\n",
      "Epoch 12/25\n",
      "250/250 [==============================] - 126s 502ms/step - loss: 0.4017 - acc: 0.8124 - val_loss: 0.4648 - val_acc: 0.7842\n",
      "Epoch 13/25\n",
      "250/250 [==============================] - 128s 511ms/step - loss: 0.3907 - acc: 0.8233 - val_loss: 0.4621 - val_acc: 0.7884\n",
      "Epoch 14/25\n",
      "250/250 [==============================] - 128s 511ms/step - loss: 0.3803 - acc: 0.8279 - val_loss: 0.4804 - val_acc: 0.7888\n",
      "Epoch 15/25\n",
      "250/250 [==============================] - 127s 507ms/step - loss: 0.3691 - acc: 0.8354 - val_loss: 0.4925 - val_acc: 0.7886\n",
      "Epoch 16/25\n",
      "250/250 [==============================] - 128s 514ms/step - loss: 0.3516 - acc: 0.8458 - val_loss: 0.4946 - val_acc: 0.7800\n",
      "Epoch 17/25\n",
      "250/250 [==============================] - 129s 518ms/step - loss: 0.3385 - acc: 0.8484 - val_loss: 0.4655 - val_acc: 0.7969\n",
      "Epoch 18/25\n",
      "250/250 [==============================] - 128s 511ms/step - loss: 0.3301 - acc: 0.8516 - val_loss: 0.5079 - val_acc: 0.7721\n",
      "Epoch 19/25\n",
      "250/250 [==============================] - 122s 489ms/step - loss: 0.3258 - acc: 0.8548 - val_loss: 0.5050 - val_acc: 0.7881\n",
      "Epoch 20/25\n",
      "250/250 [==============================] - 123s 492ms/step - loss: 0.3090 - acc: 0.8656 - val_loss: 0.4654 - val_acc: 0.7998\n",
      "Epoch 21/25\n",
      "250/250 [==============================] - 128s 511ms/step - loss: 0.2858 - acc: 0.8789 - val_loss: 0.4999 - val_acc: 0.7870\n",
      "Epoch 22/25\n",
      "250/250 [==============================] - 127s 508ms/step - loss: 0.2935 - acc: 0.8721 - val_loss: 0.4888 - val_acc: 0.7930\n",
      "Epoch 23/25\n",
      "250/250 [==============================] - 128s 511ms/step - loss: 0.2735 - acc: 0.8839 - val_loss: 0.4905 - val_acc: 0.7884\n",
      "Epoch 24/25\n",
      "250/250 [==============================] - 128s 511ms/step - loss: 0.2621 - acc: 0.8870 - val_loss: 0.4973 - val_acc: 0.7950\n",
      "Epoch 25/25\n",
      "250/250 [==============================] - 128s 513ms/step - loss: 0.2526 - acc: 0.8932 - val_loss: 0.5292 - val_acc: 0.7807\n"
     ]
    },
    {
     "data": {
      "text/plain": [
       "<keras.callbacks.History at 0x7f7c464e8320>"
      ]
     },
     "execution_count": 4,
     "metadata": {},
     "output_type": "execute_result"
    }
   ],
   "source": [
    "train_datagen = ImageDataGenerator(rescale = 1./255, shear_range=0.2, zoom_range=0.2, horizontal_flip=True)\n",
    "\n",
    "test_datagen = ImageDataGenerator(rescale = 1./255)\n",
    "\n",
    "training_set = train_datagen.flow_from_directory('dataset/training_set', target_size=(64,64), batch_size=32, class_mode='binary')\n",
    "test_set = train_datagen.flow_from_directory('dataset/test_set', target_size=(64,64), batch_size=32, class_mode='binary')\n",
    "\n",
    "classifier.fit_generator(training_set, samples_per_epoch=8000, nb_epoch=25, validation_data=test_set, nb_val_samples=2000)"
   ]
  },
  {
   "cell_type": "code",
   "execution_count": null,
   "metadata": {},
   "outputs": [],
   "source": []
  }
 ],
 "metadata": {
  "kernelspec": {
   "display_name": "Python 3",
   "language": "python",
   "name": "python3"
  },
  "language_info": {
   "codemirror_mode": {
    "name": "ipython",
    "version": 3
   },
   "file_extension": ".py",
   "mimetype": "text/x-python",
   "name": "python",
   "nbconvert_exporter": "python",
   "pygments_lexer": "ipython3",
   "version": "3.6.8"
  }
 },
 "nbformat": 4,
 "nbformat_minor": 2
}
